{
  "nbformat": 4,
  "nbformat_minor": 0,
  "metadata": {
    "colab": {
      "provenance": []
    },
    "kernelspec": {
      "name": "python3",
      "display_name": "Python 3"
    },
    "language_info": {
      "name": "python"
    }
  },
  "cells": [
    {
      "cell_type": "markdown",
      "source": [
        "### Exercise 2: Create markdown cell with title of the notebook"
      ],
      "metadata": {
        "id": "7Fw0nWDmv4FX"
      }
    },
    {
      "cell_type": "markdown",
      "source": [
        "# Data Science Tools and Ecosystem"
      ],
      "metadata": {
        "id": "m5vvSZzxv-KE"
      }
    },
    {
      "cell_type": "markdown",
      "source": [
        "# Exercise 3 - Create a markdown cell for an introduction"
      ],
      "metadata": {
        "id": "jZ4W0pkZwNp2"
      }
    },
    {
      "cell_type": "markdown",
      "source": [
        "#### In this notebook, Data Science Tools and Ecosystem are summarized."
      ],
      "metadata": {
        "id": "Ow3yknxywXeS"
      }
    },
    {
      "cell_type": "markdown",
      "source": [
        "# Exercise 4 - Create a markdown cell to list data science languages"
      ],
      "metadata": {
        "id": "vuMr3meHwpei"
      }
    },
    {
      "cell_type": "markdown",
      "source": [
        "Some of the popular languages that Data Scientists use are:\n",
        "\n",
        "1. Python  \n",
        "2. R  \n",
        "3. SQL  \n",
        "4. Julia  \n",
        "5. Scala  \n"
      ],
      "metadata": {
        "id": "Tc85V1Cgwntv"
      }
    },
    {
      "cell_type": "markdown",
      "source": [
        "# Exercise 5 - Create a markdown cell to list data science libraries"
      ],
      "metadata": {
        "id": "fDDpPHX9w6tZ"
      }
    },
    {
      "cell_type": "markdown",
      "source": [
        "Some of the commonly used libraries used by Data Scientists include:\n",
        "\n",
        "1. Pandas  \n",
        "2. NumPy  \n",
        "3. Matplotlib  \n",
        "4. Scikit-learn  \n",
        "5. TensorFlow  \n"
      ],
      "metadata": {
        "id": "j5MuSHwBw74j"
      }
    },
    {
      "cell_type": "markdown",
      "source": [
        "# Exercise 6 - Create a markdown cell with a table of Data Science tools"
      ],
      "metadata": {
        "id": "fo79IZT5xI_M"
      }
    },
    {
      "cell_type": "markdown",
      "source": [
        "| Data Science Tools |\n",
        "|--------------------|\n",
        "| Jupyter Notebook   |\n",
        "| RStudio            |\n",
        "| VS Code            |\n"
      ],
      "metadata": {
        "id": "juS7jtjnxKSp"
      }
    },
    {
      "cell_type": "markdown",
      "source": [
        "# Exercise 7 - Create a markdown cell introducing arithmetic expression examples"
      ],
      "metadata": {
        "id": "ZPmLzBufxXGZ"
      }
    },
    {
      "cell_type": "markdown",
      "source": [
        "### Below are a few examples of evaluating arithmetic expressions in Python.\n"
      ],
      "metadata": {
        "id": "dI6VqNEZxcyT"
      }
    },
    {
      "cell_type": "markdown",
      "source": [
        "# Exercise 8 - Create a code cell to multiply and add numbers"
      ],
      "metadata": {
        "id": "ZnuuKhaixqP2"
      }
    },
    {
      "cell_type": "code",
      "execution_count": 1,
      "metadata": {
        "colab": {
          "base_uri": "https://localhost:8080/"
        },
        "id": "bonkApscvjeM",
        "outputId": "990b69a7-362f-48d6-97fc-52dddb3dea73"
      },
      "outputs": [
        {
          "output_type": "execute_result",
          "data": {
            "text/plain": [
              "17"
            ]
          },
          "metadata": {},
          "execution_count": 1
        }
      ],
      "source": [
        "# This is a simple arithmetic expression to multiply then add integers\n",
        "(3 * 4) + 5"
      ]
    },
    {
      "cell_type": "markdown",
      "source": [
        "# Exercise 9 - Create a code cell to convert minutes to hours"
      ],
      "metadata": {
        "id": "tVxHxnmfx8C0"
      }
    },
    {
      "cell_type": "code",
      "source": [
        "# This will convert 200 minutes to hours by dividing by 60\n",
        "200 / 60"
      ],
      "metadata": {
        "colab": {
          "base_uri": "https://localhost:8080/"
        },
        "id": "cfUHHUhEx9B4",
        "outputId": "c80bf248-cee5-4b32-e9bb-d4b6ea46c054"
      },
      "execution_count": 2,
      "outputs": [
        {
          "output_type": "execute_result",
          "data": {
            "text/plain": [
              "3.3333333333333335"
            ]
          },
          "metadata": {},
          "execution_count": 2
        }
      ]
    },
    {
      "cell_type": "markdown",
      "source": [
        "# Exercise 10 - Insert a markdown cell to list Objectives"
      ],
      "metadata": {
        "id": "0IOLRxoTyLh4"
      }
    },
    {
      "cell_type": "markdown",
      "source": [
        "**Objectives:**\n",
        "\n",
        "- List popular languages for Data Science  \n",
        "- Identify commonly used libraries in Data Science  \n",
        "- Create tables to organize Data Science tools  \n",
        "- Perform basic arithmetic operations in Python  \n",
        "- Convert units using Python  \n"
      ],
      "metadata": {
        "id": "A5_-Tc4WyV8P"
      }
    },
    {
      "cell_type": "markdown",
      "source": [
        "# Exercise 11 - Create a markdown cell to indicate the Author's name"
      ],
      "metadata": {
        "id": "5fItlBS4yn2-"
      }
    },
    {
      "cell_type": "markdown",
      "source": [
        "## Author\n",
        "Aarab Nishchal\n"
      ],
      "metadata": {
        "id": "3VAsZvapyqFg"
      }
    }
  ]
}